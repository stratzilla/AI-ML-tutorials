{
 "cells": [
  {
   "cell_type": "markdown",
   "metadata": {},
   "source": [
    "# Neural Network Tutorial\n",
    "\n",
    "This is a tutorial to implement a feedforward neural network with backpropagation training using learning and momentum rate parameters. This is the \"hello world\" of neural networks and forms the basis for many different network training techniques. Some other interesting network architectures are residual backpropagation, quick prop, and more, and while they do similar things, I'm only focusing on a vanilla backpropagation network. Feel free to distribute, edit, make changes, improve, etc. this tutorial. If you publish this tutorial elsewhere, please let me know and link back.\n",
    "\n",
    "## Neural Networks\n",
    "\n",
    "Neural networks are a bioinspired network of neurons used for predictive modeling. Its structure as a group of associated neurons can be used for artificial intelligence and machine learning applications. I won't go into the history of neural networks (I'll leave it as an exercise to the reader) but surprisingly these have been around in some fashion or another since the 60s but only really came into vogue in the 90s and beyond.\n",
    "\n",
    "To put it in layman's terms, a neural network connects different learning units together in a network structure. Each learning unit--or neuron--in the network uses a mathematical or computational model for information processing. Each neuron accepts an input signal which processes the signal and passes it to its neural output. When training data is fed into the network, the network weights change to reflect the fed data, and over time and enough training examples, the network would (hopefully) learn to generalize for novel data.\n",
    "\n",
    "This tutorial won't go into a lot of math. Sure, it's here, but it's been simplified dramatically. You should read Mitchell's text on machine learning to know the intricacies of neural networks, but I personally don't really learn that way and much prefer there to be as little math as possible.\n",
    "\n",
    "### Learning\n",
    "\n",
    "An example neural network is below:\n",
    "\n",
    "<img src=\"./images/network-diagram.png\"/>\n",
    "\n",
    "This is often referred to as a 3-2-3 network, or one which consists of three neurons in the input layer, two neurons in the hidden layer, and three neurons in the output layer. Each layer has its neurons interconnected with the next with these connections referred to as synapses.\n",
    "\n",
    "Data flows into the neural network from the input layer (where the count of neurons equals the dimensionality of the data, i.e. how many features the data has), passes through to the next layer but not before passing a summing and activation function, meant to aggregate the data and process it to match the number of outputs. This process is referred to as feed-forward, or the forward pass of the network. This works in one direction. \n",
    "\n",
    "The output layer, however, consists of neurons equal to the number of classes the specific problem has. Once data reaches here, each neuron outputs a continuous value correlating to how much the network is confident that piece of data corresponds to a given class. The number of classes is problem specific and like the input layer, is generally denoted by the problem and not by the user.\n",
    "\n",
    "How the system learns is that once every training example was fed forward through the network, you can identify how erroneous classification was by comparing the output received versus the target output. Since this is supervised learning, the class of a training example is known, and comparing this to what was received, the network can correct its synapse weights to better come to a correct solution.\n",
    "\n",
    "Once the error is found, it is fed backwards into the network, referred to as backpropagation, and stored in each neuron. When the synapse weights are updated, they correct themselves based on this error (and other network parameters).\n",
    "\n",
    "This process of feedforward and backpropagation is done many times until the error is reduced sufficiently enough. A typical network may just guess at a solution, but after training, it will be a more informed decision and the network will be a more confident classifier.\n",
    "\n",
    "### Pseudocode\n",
    "\n",
    "Pseudocode for the algorithm is as below:\n",
    "\n",
    "```\n",
    "procedure nn() is:\n",
    "  initialize network structure\n",
    "  initialize random weights for each synapse\n",
    "  for each epoch do:\n",
    "    for each training example ex do:\n",
    "      feed-forward ex through layers 0..n\n",
    "      find error e as a function of actual and target outputs\n",
    "      back-propagate e through layers n..0\n",
    "      update weights w as a function of w, e, network params\n",
    "    endfor\n",
    "  endfor\n",
    "endprocedure\n",
    "```\n",
    "\n",
    "## Before you begin\n",
    "\n",
    "This tutorial uses Python and one dependency which needs to be met:\n",
    "\n",
    "- Python 3.6\n",
    "- GNU/Linux (or WSL, LXSS, etc)\n",
    "- X11 or alternative\n",
    "- `matplotlib`\n",
    "- some data\n",
    "\n",
    "I'll leave it as an exercise to the reader on how to meet these dependencies. I will, however, be using the Iris data set (see `/data`) but I'll be implementing the neural network to be as general as possible, i.e. able to take any data set and automatically configure itself to meet the demands of the data.\n",
    "\n",
    "`matplotlib` is not entirely necessary for the final program, but this tutorial does use it for illustrative purposes.\n",
    "\n",
    "## Loading the Data\n",
    "\n",
    "Before I begin my implementation, I need to handle how data is read and stored. \n",
    "\n",
    "The Iris data set consists of 150 examples of 4-dimensional data (four continuous features per row) along with a discrete classification (class count of three). I've renamed the classes as numbers (`0, 1, 2`) so I remain using numbers. For reference, a class of `0` means Iris-setosa, `1` means Iris-versicolor, and `2` means Iris-virginica.\n",
    "\n",
    "We don't want one collection of data. Rather, we want a split of training and testing data. A very common ratio is 70% training data, 30% testing data; you can, of course, experiment with other ratios but 70/30 is very common. The bigger chunk will be used to train the network and the smaller to verify its performance. \n",
    "\n",
    "Here we'll load the data and split it into training and testing data."
   ]
  },
  {
   "cell_type": "code",
   "execution_count": 1,
   "metadata": {},
   "outputs": [
    {
     "name": "stdout",
     "output_type": "stream",
     "text": [
      "Training examples: 105\n",
      "Testing examples: 45\n"
     ]
    }
   ],
   "source": [
    "import csv\n",
    "import random\n",
    "from math import floor, ceil\n",
    "\n",
    "def load_data(filename):\n",
    "    \"\"\"Loads CSV for splitting into training and testing data.\n",
    "    \n",
    "    Parameters:\n",
    "        filename : the filename of the file to load.\n",
    "    \n",
    "    Returns:\n",
    "        Two lists, each corresponding to training and testing data.\n",
    "    \"\"\"\n",
    "    with open(filename, newline='\\n') as csv_file: # open CSV\n",
    "        data = [] # store data as a master list\n",
    "        rows = csv.reader(csv_file, delimiter=',') # get each row\n",
    "        for row in rows: # for each row\n",
    "            data.append(row) # add to data list\n",
    "    random.shuffle(data) # randomize data order\n",
    "    training_data = data[:floor(len(data)*0.70)] # 70% split train\n",
    "    testing_data = data[-ceil(len(data)*0.30):] # 30% split test\n",
    "    return training_data, testing_data\n",
    "\n",
    "TRAIN, TEST = load_data('./data/iris.csv')\n",
    "\n",
    "print(f'Training examples: {len(TRAIN)}')\n",
    "print(f'Testing examples: {len(TEST)}')"
   ]
  },
  {
   "cell_type": "markdown",
   "metadata": {},
   "source": [
    "Now we have 70% of the data stored as training data and the remainder as testing data. It's also useful to count the number of features and the number of unique classifications of the data to best initialize our network layer:"
   ]
  },
  {
   "cell_type": "code",
   "execution_count": 2,
   "metadata": {},
   "outputs": [
    {
     "name": "stdout",
     "output_type": "stream",
     "text": [
      "Features: 4, Classes: 3\n"
     ]
    }
   ],
   "source": [
    "FEATURES = len(TRAIN[0][:-1]) # count number of attributes\n",
    "CLASSES = len(list(set([c[-1] for c in TRAIN]))) # count number of unique classifications\n",
    "\n",
    "print(f'Features: {FEATURES}, Classes: {CLASSES}')"
   ]
  },
  {
   "cell_type": "markdown",
   "metadata": {},
   "source": [
    "This remains consistent with the known characteristics of the data set. We'll use these counts when initializing the network, as we want four input neurons and three output neurons. This is where the input layer and output layer sizes are determined: these counts are not user defined but instead a consequence of the data.\n",
    "\n",
    "## Initializing the Network\n",
    "\n",
    "In order to make the network, we need to know the number of input neurons, the number of output neurons, but also some number of hidden layers and hidden neurons. To keep it simple, I'll keep it to one hidden layer with five neurons. Since we already know the size of the input and output layers, the final network structure will be 4-5-3.\n",
    "\n",
    "Some like to make a neuron class and create a network using object orientation but I think it's simpler to use standard containers from Python like lists and dictionaries.\n",
    "\n",
    "When making the network, we're also describing the weights of the synapses between neurons. Each neuron is connected to each neuron in the next layer, and these connections have a weight for them paramount to learning. There's different literature on how weights should be initialized; for example, in the range `[0.00, 1.00]`, `[-1.00, 1.00]`, and so on. I like `[-0.50, 0.50]`. Each neuron outside of the first also has a bias connected to it."
   ]
  },
  {
   "cell_type": "code",
   "execution_count": 3,
   "metadata": {},
   "outputs": [],
   "source": [
    "def initialize_network(n, h, o):\n",
    "    \"\"\"Neural network initializer.\n",
    "    \n",
    "    Parameters:\n",
    "        n : the number of input neurons.\n",
    "        h : the number of hidden neurons.\n",
    "        o : the number of output neurons.\n",
    "    \n",
    "    Returns:\n",
    "        An n-h-o neural network as a list of list of dicts.\n",
    "    \"\"\"\n",
    "    def r(): # an inline function to generate randomly uniform numbers\n",
    "        return random.uniform(-0.50, 0.50)\n",
    "    neural_network = [] # initially an empty list\n",
    "    # there are (n * h) connections between input layer and hidden layer\n",
    "    # a 'w' will denote weights\n",
    "    neural_network.append([{'w':[r() for i in range(n+1)]} for j in range(h)])\n",
    "    # there are (h * o) connections between hidden layer and output layer\n",
    "    neural_network.append([{'w':[r() for i in range(h+1)]} for j in range(o)])\n",
    "    return neural_network\n",
    "\n",
    "NETWORK = initialize_network(FEATURES, 5, CLASSES)"
   ]
  },
  {
   "cell_type": "markdown",
   "metadata": {},
   "source": [
    "While a visualization will be ugly, you can see all of the network weights by printing the network:"
   ]
  },
  {
   "cell_type": "code",
   "execution_count": 4,
   "metadata": {},
   "outputs": [
    {
     "name": "stdout",
     "output_type": "stream",
     "text": [
      "{'w': [ 0.3775,  0.2912,  0.0728, -0.4050,  0.4747]}\n",
      "{'w': [-0.3037, -0.2640, -0.2546,  0.2884,  0.2068]}\n",
      "{'w': [-0.4138,  0.3322,  0.3602, -0.1637, -0.3013]}\n",
      "{'w': [-0.2697,  0.1121, -0.1494,  0.4448,  0.3078]}\n",
      "{'w': [-0.4629, -0.1226, -0.0236, -0.1642,  0.2739]}\n",
      "\n",
      "{'w': [ 0.4451,  0.0094, -0.4016, -0.4020, -0.2512, -0.3907]}\n",
      "{'w': [-0.4953,  0.4005, -0.1817,  0.1714,  0.0477,  0.3311]}\n",
      "{'w': [ 0.0487,  0.4486, -0.0608,  0.4802, -0.2886, -0.2563]}\n"
     ]
    }
   ],
   "source": [
    "for layer in NETWORK:\n",
    "    for neuron in layer:\n",
    "        print(neuron)\n",
    "    print('\\n')"
   ]
  },
  {
   "cell_type": "markdown",
   "metadata": {},
   "source": [
    "I've truncated each weight to four decimal places for readability. You can make a little bit of sense of this by counting the `w` as found above: there's eight because we have eight sets of connections (five sets from hidden layer to input layer and three sets from output layer to hidden layer). As well there's two \"layers\" of connections, as there's one \"layer\" of connections connecting the input layer to hidden layer, then another from hidden layer to output layer.\n",
    "\n",
    "The first five sets of weights correspond to the connections between the input and hidden layer. Note there's five weights despite only four input neurons: this is the bias, an extra weight used to normalize the data. As far as I'm aware, a bias is not necessarily all of the time but is good practice to include as it does not harm the network by addition. Likewise, the following three sets of weights are of length six in a similar way.\n",
    "\n",
    "Seeing the network is not terribly important right now, so this is just to verify that weights were randomly initialized within the specified range of `[-0.50, 0.50]`.\n",
    "\n",
    "## Feeding Data Forward\n",
    "\n",
    "As previously mentioned, one of the steps to training the network is feeding data forward through the network. Data enters the input layer, is processed by the input neurons, then fed into the hidden layer and the cycle repeats until data reaches the output layer.\n",
    "\n",
    "The \"processing\" I mention is by use of a summing and activation function. Here is what a neuron looks like:\n",
    "\n",
    "<img src=\"./images/neuron-diagram.png\"/>\n",
    "\n",
    "For this example, it is a neuron with three neural inputs. It collects the input data, performs a summation (S), then sends that summation to the activation function (T), which sends its activation as output.\n",
    "\n",
    "### Summing Function\n",
    "\n",
    "The summing function takes neural inputs and aggregates them to be sent to the next layer. In our network, for example, one of the hidden neurons takes four inputs but only one output (albeit three times). How do you convert four inputs to one output? You would take the input signals, multiply them by the weights of the connections to reach the neuron, and sum these values up. Each weight is \"how much\" of that input it considers for summation and can be signed in either direction.\n",
    "\n",
    "The summation is found as:\n",
    "\n",
    "$$S = \\sum_i^n{(w_i \\times x_i)} + b$$\n",
    "\n",
    "Where $n$ is the length of the weight vector, $b$ is the neural bias, $w$ and $x$ are the weights and inputs respectively.\n",
    "\n",
    "This can be trivially implemented:"
   ]
  },
  {
   "cell_type": "code",
   "execution_count": 5,
   "metadata": {},
   "outputs": [],
   "source": [
    "def summing_function(weights, inputs):\n",
    "    \"\"\"Sums the synapse weights with inputs and bias.\n",
    "    \n",
    "    Parameters:\n",
    "        weights : synaptic weights.\n",
    "        inputs : a vector of inputs.\n",
    "    \n",
    "    Returns:\n",
    "        The aggregate of inputs times weights, plus bias.\n",
    "    \"\"\"\n",
    "    bias = weights[-1] # bias is the final value in the weight vector\n",
    "    summ = 0.00 # to sum\n",
    "    for i in range(len(weights)-1):\n",
    "        summ += (weights[i] * float(inputs[i])) # aggregate the weights with input values\n",
    "    return summ + bias"
   ]
  },
  {
   "cell_type": "markdown",
   "metadata": {},
   "source": [
    "This will crunch the four inputs into one output based on the synapse weights connecting the inputs to the neuron and subsequently sending it to the activation function.\n",
    "\n",
    "### Activation Function\n",
    "\n",
    "The activation signifies the differences in neuron activation or firing. Typically, as is the case with linear activations, it will be a binary \"ON\" or \"OFF\". But, using non-linear activations you can have a continuous range of \"ON-ness\", or probabilities of being fired. The activation function we'll be using is the logarithmic sigmoid function:\n",
    "\n",
    "$$log(z) = \\frac{1}{1 + e^{-z}}$$\n",
    "\n",
    "Which when implemented is as below:"
   ]
  },
  {
   "cell_type": "code",
   "execution_count": 6,
   "metadata": {},
   "outputs": [],
   "source": [
    "from math import exp\n",
    "\n",
    "def activation_function(z):\n",
    "    \"\"\"\n",
    "    Parameters:\n",
    "        z : summed output of neuron.\n",
    "    \n",
    "    Returns:\n",
    "        The neuron activation based on the summed output.\n",
    "    \"\"\"\n",
    "    return 1 / (1 + exp(-z))"
   ]
  },
  {
   "cell_type": "markdown",
   "metadata": {},
   "source": [
    "To see what this function does, we can use `matplotlib`:"
   ]
  },
  {
   "cell_type": "code",
   "execution_count": 7,
   "metadata": {
    "scrolled": false
   },
   "outputs": [
    {
     "data": {
      "image/png": "[encoded data removed]",
      "text/plain": [
       "<Figure size 432x288 with 1 Axes>"
      ]
     },
     "metadata": {
      "needs_background": "light"
     },
     "output_type": "display_data"
    },
    {
     "data": {
      "text/plain": [
       "<Figure size 432x288 with 0 Axes>"
      ]
     },
     "metadata": {},
     "output_type": "display_data"
    }
   ],
   "source": [
    "import matplotlib.pyplot as plt\n",
    "\n",
    "x = range(-10, 10+1, 1)\n",
    "y = [activation_function(z) for z in x]\n",
    "plt.plot(x, y, c='blue', lw='1')\n",
    "plt.ylabel('log(z)')\n",
    "plt.xlabel('z')\n",
    "plt.show()\n",
    "plt.clf()"
   ]
  },
  {
   "cell_type": "markdown",
   "metadata": {},
   "source": [
    "You can see the function squashes values above and below a certain range, meaning the minimum of the function is `0.0` and the maximum is `1.0`. To put it briefly, larger numbers will cap at `1.0` and smaller numbers will cap at `0.0`. So, if we received a weight summation of, say, `3.14`, the activation of this value is approximately `0.9585`. This function effectively normalizes the weighted sum to `[0.00, 1.00]`.\n",
    "\n",
    "There are other activation functions you can use, like the hyperbolic tangent function, but for simplicity sake, the logarithmic sigmoid function will suffice.\n",
    "\n",
    "### Back to Feeding Forward\n",
    "\n",
    "With both summation and activation functions defined, we can implement the feed-forward function:"
   ]
  },
  {
   "cell_type": "code",
   "execution_count": 8,
   "metadata": {},
   "outputs": [],
   "source": [
    "def feed_forward(network, example):\n",
    "    \"\"\"Feedforward method. Feeds data forward through network.\n",
    "    \n",
    "    Parameters:\n",
    "        network : the neural network.\n",
    "        example : an example of data to feed forward.\n",
    "    \n",
    "    Returns:\n",
    "        The output of the forward pass.\n",
    "    \"\"\"\n",
    "    layer_input, layer_output = example, []\n",
    "    for layer in network:\n",
    "        for neuron in layer:\n",
    "            summ = summing_function(neuron['w'], layer_input) # sum the weight with inputs\n",
    "            neuron['o'] = activation_function(summ) # activate the sum, store output\n",
    "            layer_output.append(neuron['o']) # append output to outputs\n",
    "        layer_input, layer_output = layer_output, [] # inputs become outputs of previous layer\n",
    "    return layer_input # return the final output"
   ]
  },
  {
   "cell_type": "markdown",
   "metadata": {},
   "source": [
    "Data is fed into the network starting at the first layer, it is processed by the neurons in that layer, generating outputs using the summing and activation functions, the outputs are then fed into the next layer as inputs and the cycle repeats until the output layer receives the outputs. The final output from the output layer is the probability that the data example is part of a given class.\n",
    "\n",
    "We can test this by feeding a couple examples through and investigating their outputs. We'll write a function to pass an example through the network and see its output:"
   ]
  },
  {
   "cell_type": "code",
   "execution_count": 9,
   "metadata": {},
   "outputs": [],
   "source": [
    "def check_output(network, example):\n",
    "    \"\"\"Compares network output to actual output.\n",
    "    \n",
    "    Parameters:\n",
    "        network : the neural network.\n",
    "        example : an example of data.\n",
    "    \n",
    "    Returns:\n",
    "        The class the example belongs to (based on network guess).\n",
    "    \"\"\"\n",
    "    output = feed_forward(network, example)\n",
    "    return output.index(max(output))"
   ]
  },
  {
   "cell_type": "markdown",
   "metadata": {},
   "source": [
    "Each feedforward pass will \"light up\" each output neurons to a different degree. This is the confidence that the row of data fed into the network corresponds to that class. Recall for our network, there are three output neurons, and the highest neural output in the output layer corresponds to the proposed class. If you were to print each neural output for the output layer, you would see three different values. We've taken the maximum here as our network's prediction.\n",
    "\n",
    "I'll take the first five training examples, output their class, and compare to the network's outputs:"
   ]
  },
  {
   "cell_type": "code",
   "execution_count": 10,
   "metadata": {},
   "outputs": [
    {
     "name": "stdout",
     "output_type": "stream",
     "text": [
      "Expected: 2, Found: 2\n",
      "Expected: 0, Found: 2\n",
      "Expected: 2, Found: 2\n",
      "Expected: 0, Found: 2\n",
      "Expected: 2, Found: 2\n"
     ]
    }
   ],
   "source": [
    "def test_network_outputs(num):\n",
    "    for i in range(num):\n",
    "        print(f'Expected: {int(TRAIN[i][-1])}, Found: {check_output(NETWORK, TRAIN[i])}')\n",
    "\n",
    "test_network_outputs(5)"
   ]
  },
  {
   "cell_type": "markdown",
   "metadata": {},
   "source": [
    "Not a whole lot to see here. It just happens that the weights were initialized such that the third output neuron's synapse weights were the strongest leading it to classify every example as of the third class. Additionally, since the network isn't trained during the feedforward step, these weights remain the same. Still, we'll make a driver to test everything and output a performance percentage:"
   ]
  },
  {
   "cell_type": "code",
   "execution_count": 11,
   "metadata": {},
   "outputs": [],
   "source": [
    "def performance_measure(network, data):\n",
    "    \"\"\"Measures accuracy of the network using classification error.\n",
    "    \n",
    "    Parameters:\n",
    "        network : the neural network.\n",
    "        data : a set of data examples.\n",
    "    \n",
    "    Returns:\n",
    "        A percentage of correct classifications.\n",
    "    \"\"\"\n",
    "    correct, total = 0, 0\n",
    "    for example in data:\n",
    "        # check to see if the network output matches target output\n",
    "        if check_output(network, example) == float(example[-1]):\n",
    "            correct += 1\n",
    "        total += 1\n",
    "    return f'{(correct / total):.2%}'"
   ]
  },
  {
   "cell_type": "markdown",
   "metadata": {},
   "source": [
    "And while it means very little right now, we can run this on the training and testing data to see presumably poor results:"
   ]
  },
  {
   "cell_type": "code",
   "execution_count": 12,
   "metadata": {},
   "outputs": [
    {
     "name": "stdout",
     "output_type": "stream",
     "text": [
      "Accuracy against training data: 34.29%\n",
      "Accuracy against testing data: 31.11%\n"
     ]
    }
   ],
   "source": [
    "def test_network(network, training_data, testing_data):\n",
    "    print(f'Accuracy against training data: {performance_measure(network, training_data)}')\n",
    "    print(f'Accuracy against testing data: {performance_measure(network, testing_data)}')\n",
    "\n",
    "test_network(NETWORK, TRAIN, TEST)"
   ]
  },
  {
   "cell_type": "markdown",
   "metadata": {},
   "source": [
    "Don't forget that for the Iris data set, a random guess is still 33.33%, so these numbers mean very little and amount to not much more than random guessing. But, using backpropagation, we can train the network to generalize and correctly classify data.\n",
    "\n",
    "## Backpropagating Error\n",
    "\n",
    "Backpropagation is how the network is trained. After every training example is fed forward through the network, we can identify the error in the output layer based on these values. Then, we can propagate the error through the layers in reverse to determine how much each synapse weight needs to be corrected to come closer to a minimized error. If feed-forward passes outputs through the layers, backpropagation passes errors through the layers in reverse.\n",
    "\n",
    "We first need an activation derivative function:"
   ]
  },
  {
   "cell_type": "code",
   "execution_count": 13,
   "metadata": {},
   "outputs": [],
   "source": [
    "def activation_derivative(z):\n",
    "    \"\"\"Derivative of logarithmic sigmoid function.\n",
    "    \n",
    "    Parameters:\n",
    "        z : summing output.\n",
    "    \n",
    "    Returns:\n",
    "        The differential of the neural output.\n",
    "    \"\"\"\n",
    "    return z * (1 - z)"
   ]
  },
  {
   "cell_type": "markdown",
   "metadata": {},
   "source": [
    "This is done to find the gradient of the activation. I'm trying not to use too much math here, but this is because the backpropagated error signal requires an error gradient, and we cannot update the weights without knowing this. The backpropagation algorithm is relatively tame:"
   ]
  },
  {
   "cell_type": "code",
   "execution_count": 14,
   "metadata": {},
   "outputs": [],
   "source": [
    "def backpropagate(network, example):\n",
    "    \"\"\"Backpropagation function. Backpropagates error through network.\n",
    "    \n",
    "    Parameters:\n",
    "        network : the neural network.\n",
    "        example : a training example.\n",
    "    \"\"\"\n",
    "    for i in range(len(network)-1, -1, -1): # for each reverse order layer\n",
    "        for j in range(len(network[i])): # for each neuron in the layer\n",
    "            error = 0.00\n",
    "            if i == len(network)-1: # if the output layer\n",
    "                # error is a function of what the output is versus the target\n",
    "                error = example[j] - network[i][j]['o']\n",
    "            else: # if an inner layer\n",
    "                summ = 0.00\n",
    "                # error is the sum of neuron weights times their deltas\n",
    "                for neuron in network[i+1]:\n",
    "                    summ += neuron['w'][j] * neuron['d']\n",
    "                error = summ\n",
    "            # delta is amount of correction\n",
    "            network[i][j]['d'] = activation_derivative(network[i][j]['o']) * error"
   ]
  },
  {
   "cell_type": "markdown",
   "metadata": {},
   "source": [
    "Using this function, we find the delta (the amount needed by the weights to be corrected) for each neuron. Using this, we can update synapse weights based on network parameters. Some literature doesn't use the delta and instead uses the actual error, but as the delta is a function of the error, it will suffice and saves us a step later. Just think of the delta as the corrective magnitude of the output against the error.\n",
    "\n",
    "And what are the network parameters? We've got this far; we should probably define them:\n",
    "\n",
    "### Learning Rate\n",
    "\n",
    "The learning rate is usually a very small value used to determine how much of the corrective delta to account for when updating the weights. A learning rate of `0.00`, for example, will not learn anything at all, but a larger learning rate of, say, `1.00` means a large portion of the delta is accounted for. There is no right answer here, it is usually empirically found by experimentation, although generally you want the learning rate to be very small, for example `[0.001, 0.100]`.\n",
    "\n",
    "### Momentum Rate\n",
    "\n",
    "The momentum rate is similar, but it accounts for temporal delta, or the previous example's inertia in updating weights. If the previous example changed the weights to a large degree, some of that will spill into the next example. It is also parameterized and like the learning rate, is generally small, smaller than the learning rate, even. There's no right answer here either but typically a momentum rate of `[0.000, 0.010]` is appropriate. This is an optional network parameter and usually a network can train fine without it.\n",
    "\n",
    "If you want the math-y version of why momentum is needed or wanted: since backpropagation aims to reduce or minimize the error function for the network, the gradient of which is not linear, there are many \"bumps\" in this function, or local minima. If you imagined a linear line in two dimensions but added a few pitfalls to it, if you were to roll a ball down this line, you may get trapped in local minima and never reach the global minima. Momentum can alleviate this.\n",
    "\n",
    "In order to implement momentum rate, we need to keep track of the prior example's delta which you'll see soon.\n",
    "\n",
    "## Updating Weights\n",
    "\n",
    "Since we now have our feedforward and backpropagation functions, now we can define how weights are updated. Weights for this network are updated like below:\n",
    "\n",
    "$$w_\\text{new} = w_\\text{old} + (L \\times d_\\text{current} \\times t) + (M \\times d_\\text{previous})$$\n",
    "\n",
    "Or, the new weight is the old weight plus a term which encompasses the learning rate with the error delta and training examples, plus a term which encompasses the momentum rate with the temporal delta."
   ]
  },
  {
   "cell_type": "code",
   "execution_count": 15,
   "metadata": {},
   "outputs": [],
   "source": [
    "LEARNING_RATE = 0.10\n",
    "MOMENTUM_RATE = 0.01\n",
    "\n",
    "def update_weights(network, example, delta):\n",
    "    \"\"\"Function to update network weights.\n",
    "    \n",
    "    Parameters:\n",
    "        network : the neural network.\n",
    "        example : a training example.\n",
    "        delta : temporal delta.\n",
    "    \"\"\"\n",
    "    for i in range(len(network)): # for each layer in network\n",
    "        # we update the weights in order of layers 0..n\n",
    "        # so we need either the example or the outputs of a layer\n",
    "        if i != 0: # if not first layer\n",
    "            t = [neuron['o'] for neuron in network[i-1]] # init t as neural outputs\n",
    "        else: # if first layer\n",
    "            t = example[:-1] # init t as the training example attributes\n",
    "        # for each neuron in layer; zip with a length of network variable to access deltas\n",
    "        for neuron, d in zip(network[i], range(0, len(network[i]))):\n",
    "            for f in range(len(t)): # for each feature or output of t\n",
    "                # update weight based on learning rate term\n",
    "                neuron['w'][f] += LEARNING_RATE * float(t[f]) * neuron['d']\n",
    "                if delta is not None: # if there is a temporal delta\n",
    "                    # update weight based on momentum rate term\n",
    "                    neuron['w'][f] += MOMENTUM_RATE * delta[d]\n",
    "                # also update neural bias\n",
    "                neuron['w'][-1] += LEARNING_RATE * neuron['d']"
   ]
  },
  {
   "cell_type": "markdown",
   "metadata": {},
   "source": [
    "The process of training a backpropagation neural network is referred to as stochastic gradient descent, which is a nice term. If you break it down, the stochastic element comes from the randomized training and testing examples as well as the random initial weights of the network. Gradient descent means we're descending the error gradient as the network is trained by updating the synapse weights as a function of the error and network parameters.\n",
    "\n",
    "Since we've implemented everything so far, the stochastic gradient descent function is just a main driver for the program and is below:"
   ]
  },
  {
   "cell_type": "code",
   "execution_count": 16,
   "metadata": {},
   "outputs": [],
   "source": [
    "def stochastic_gradient_descent(network, classes, training_data):\n",
    "    \"\"\"Training function for neural network.\n",
    "    \n",
    "    Parameters:\n",
    "        network : the neural network.\n",
    "        classes : the number of classes for the data.\n",
    "        training_data : data to train the network on.\n",
    "    \"\"\"\n",
    "    for _ in range(0, 100):\n",
    "        first_example = True\n",
    "        for example in training_data:\n",
    "            # temporal delta exists for examples which are not the first\n",
    "            temporal_delta = [neuron['d'] \\\n",
    "                for layer in network for neuron in layer] \\\n",
    "                if not first_example else None\n",
    "            outputs = [0 for _ in range(classes)] # find classes for the example\n",
    "            outputs[int(example[-1])] = 1 # denote correct class\n",
    "            feed_forward(network, example) # feed forward example through network\n",
    "            backpropagate(network, outputs) # backpropagate to find deltas\n",
    "            update_weights(network, example, temporal_delta) # update the weights\n",
    "            reset_neurons(network) # reset outputs to 0\n",
    "            first_example = False\n",
    "\n",
    "def reset_neurons(network):\n",
    "    \"\"\"Resets neural outputs to zero after each backprop pass.\n",
    "    \n",
    "    Parameters:\n",
    "        network : the neural network.\n",
    "    \"\"\"\n",
    "    for layer in network:\n",
    "        for neuron in layer:\n",
    "            # we don't want to clobber the outputs later, so reset after every example\n",
    "            neuron['o'] = 0"
   ]
  },
  {
   "cell_type": "markdown",
   "metadata": {},
   "source": [
    "This is all the network needs to function and we can test it, comparing the performance with initial conditions versus when the network is trained."
   ]
  },
  {
   "cell_type": "code",
   "execution_count": 17,
   "metadata": {},
   "outputs": [
    {
     "name": "stdout",
     "output_type": "stream",
     "text": [
      "Before training:\n",
      "Accuracy against training data: 34.29%\n",
      "Accuracy against testing data: 31.11%\n",
      "\n",
      "After training:\n",
      "Accuracy against training data: 98.10%\n",
      "Accuracy against testing data: 95.56%\n"
     ]
    }
   ],
   "source": [
    "print(\"Before training:\")\n",
    "test_network(NETWORK, TRAIN, TEST)\n",
    "print(\"\\nAfter training:\")\n",
    "stochastic_gradient_descent(NETWORK, CLASSES, TRAIN)\n",
    "test_network(NETWORK, TRAIN, TEST)"
   ]
  },
  {
   "cell_type": "markdown",
   "metadata": {},
   "source": [
    "We can verify this by running our `test_network_outputs()` function again, showing a small amount of data with their expected outputs and actual outputs using the trained network:"
   ]
  },
  {
   "cell_type": "code",
   "execution_count": 18,
   "metadata": {},
   "outputs": [
    {
     "name": "stdout",
     "output_type": "stream",
     "text": [
      "Expected: 2, Found: 2\n",
      "Expected: 0, Found: 0\n",
      "Expected: 2, Found: 2\n",
      "Expected: 0, Found: 0\n",
      "Expected: 2, Found: 2\n",
      "Expected: 2, Found: 2\n",
      "Expected: 1, Found: 1\n",
      "Expected: 1, Found: 2\n",
      "Expected: 2, Found: 2\n",
      "Expected: 2, Found: 2\n",
      "Expected: 2, Found: 2\n",
      "Expected: 2, Found: 2\n",
      "Expected: 0, Found: 0\n",
      "Expected: 0, Found: 0\n",
      "Expected: 2, Found: 2\n"
     ]
    }
   ],
   "source": [
    "test_network_outputs(15)"
   ]
  },
  {
   "cell_type": "markdown",
   "metadata": {},
   "source": [
    "As expected, with the trained network reporting 98.10% accuracy against training data, it's able to classify this small subset of the data correctly with the exception of one example, which is just a consequence of poor luck (the network isn't 100% accurate, after all).\n",
    "\n",
    "## Error\n",
    "\n",
    "But what about the error? We've spent all this time minimizing the error function, but we can't yet visualize how error changes. We need to add an error function (I'll use mean squared error) and change our SGD function to output this."
   ]
  },
  {
   "cell_type": "code",
   "execution_count": 19,
   "metadata": {},
   "outputs": [],
   "source": [
    "MSE = [] # a container to store the error over epochs\n",
    "\n",
    "def sse(actual, target):\n",
    "    \"\"\"Sum Square Error loss function. Determines error of network.\n",
    "    \n",
    "    Parameters:\n",
    "        actual : the actual output from the network.\n",
    "        target : the expected output from the network.\n",
    "        \n",
    "    Returns:\n",
    "        The sum squared error of the network.\n",
    "    \"\"\"\n",
    "    summ = 0.00\n",
    "    for i in range(len(actual)):\n",
    "        summ += (actual[i] - target[i])**2\n",
    "    return summ\n",
    "\n",
    "def stochastic_gradient_descent(network, classes, training_data):\n",
    "    for _ in range(0, 350):\n",
    "        first_example = True\n",
    "        total_error = 0.00\n",
    "        for example in training_data:\n",
    "            temporal_delta = [neuron['d'] \\\n",
    "                for layer in network for neuron in layer] \\\n",
    "                if not first_example else None\n",
    "            outputs = [0 for _ in range(classes)]\n",
    "            outputs[int(example[-1])] = 1 # target output\n",
    "            actual = feed_forward(network, example) # get actual output from feedforward pass\n",
    "            total_error += sse(actual, outputs) # calculate the SSE\n",
    "            backpropagate(network, outputs)\n",
    "            update_weights(network, example, temporal_delta)\n",
    "            reset_neurons(network)\n",
    "            first_example = False\n",
    "        MSE.append(total_error/len(training_data)) # store MSE for plotting"
   ]
  },
  {
   "cell_type": "markdown",
   "metadata": {},
   "source": [
    "We'll need to reset the network to initial conditions (i.e. reinitialize weights to random) to see how the MSE evolves over time. This will be plotted using `matplotlib`. We'll also use a lot more epochs to make a nicer graph."
   ]
  },
  {
   "cell_type": "code",
   "execution_count": 20,
   "metadata": {
    "scrolled": true
   },
   "outputs": [
    {
     "data": {
      "image/png": "[encoded data removed]",
      "text/plain": [
       "<Figure size 432x288 with 1 Axes>"
      ]
     },
     "metadata": {
      "needs_background": "light"
     },
     "output_type": "display_data"
    },
    {
     "data": {
      "text/plain": [
       "<Figure size 432x288 with 0 Axes>"
      ]
     },
     "metadata": {},
     "output_type": "display_data"
    }
   ],
   "source": [
    "def plot_graph(color):\n",
    "    x = range(0, 350)\n",
    "    y = MSE\n",
    "    plt.plot(x, y, c=color, lw='1')\n",
    "\n",
    "def reset_network():\n",
    "    MSE.clear()\n",
    "    NETWORK = initialize_network(FEATURES, 5, CLASSES)\n",
    "    stochastic_gradient_descent(NETWORK, CLASSES, TRAIN)\n",
    "\n",
    "reset_network()\n",
    "plot_graph('blue')\n",
    "plt.ylabel('MSE')\n",
    "plt.xlabel('Epoch')\n",
    "plt.show()\n",
    "plt.clf()"
   ]
  },
  {
   "cell_type": "markdown",
   "metadata": {},
   "source": [
    "So, we see the MSE reduces over time but at a point does stop improving (around epoch 100). The MSE (or SSE) is inversely correlated to the network performance, too, so you will know that an appropriate training termination condition is around the same number of epochs. In other words, design your network to train until a certain threshold, then stop, as you get diminishing returns going further.\n",
    "\n",
    "## Different Learning and Momentum Rates\n",
    "\n",
    "I made a statement earlier without backing it up that the learning and momentum rates can influence the training and that it was problem specific. I want to illustrate how different values for each can be used and show their effect.\n",
    "\n",
    "Below I'll plot different learning rates and choose the best one to test momentum rates:"
   ]
  },
  {
   "cell_type": "code",
   "execution_count": 21,
   "metadata": {},
   "outputs": [
    {
     "data": {
      "image/png": "[encoded data removed]",
      "text/plain": [
       "<Figure size 432x288 with 1 Axes>"
      ]
     },
     "metadata": {
      "needs_background": "light"
     },
     "output_type": "display_data"
    },
    {
     "data": {
      "text/plain": [
       "<Figure size 432x288 with 0 Axes>"
      ]
     },
     "metadata": {},
     "output_type": "display_data"
    }
   ],
   "source": [
    "MOMENTUM_RATE = 0.000\n",
    "\n",
    "LRN_RATES = [0.010, 0.100, 1.000]\n",
    "LRN_COLOR = ['blue', 'red', 'green']\n",
    "\n",
    "for i in range(3):\n",
    "    LEARNING_RATE = LRN_RATES[i]\n",
    "    reset_network()\n",
    "    plot_graph(LRN_COLOR[i])\n",
    "    \n",
    "plt.ylabel('MSE')\n",
    "plt.xlabel('Epoch')\n",
    "plt.show()\n",
    "plt.clf()"
   ]
  },
  {
   "cell_type": "markdown",
   "metadata": {},
   "source": [
    "You'll see the blue line (learning rate of `0.01`) took a lot longer to converge (actually, it didn't in this graph but would have if it were 450-500 epochs), the red line (learning rate of `0.10`) converged quickly to a solution, and the green line (a learning rate of `1.00`) began to converge but as it reached the 10th epoch, began to overcorrect weights and actually regress to a worse MSE at many points. From this we can deduce a learning rate of `0.10` is ideal.\n",
    "\n",
    "What you should take from this is that a higher learning rate is not necessarily better as you may overshoot an ideal weight, here denoted by rapidly changing MSE.\n",
    "\n",
    "Next, we can see how momentum rate can affect performance when paired with an optimal learning rate:"
   ]
  },
  {
   "cell_type": "code",
   "execution_count": 22,
   "metadata": {},
   "outputs": [
    {
     "data": {
      "image/png": "[encoded data removed]",
      "text/plain": [
       "<Figure size 432x288 with 1 Axes>"
      ]
     },
     "metadata": {
      "needs_background": "light"
     },
     "output_type": "display_data"
    },
    {
     "data": {
      "text/plain": [
       "<Figure size 432x288 with 0 Axes>"
      ]
     },
     "metadata": {},
     "output_type": "display_data"
    }
   ],
   "source": [
    "LEARNING_RATE = 0.100\n",
    "\n",
    "MOM_RATES = [0.000, 0.001, 0.010, 0.100]\n",
    "MOM_COLOR = ['purple', 'blue', 'red', 'green']\n",
    "\n",
    "for i in range(4):\n",
    "    MOMENTUM_RATE = MOM_RATES[i]\n",
    "    reset_network()\n",
    "    plot_graph(MOM_COLOR[i])\n",
    "\n",
    "plt.ylabel('MSE')\n",
    "plt.xlabel('Epoch')\n",
    "plt.show()\n",
    "plt.clf()"
   ]
  },
  {
   "cell_type": "markdown",
   "metadata": {},
   "source": [
    "We can see the purple line (no momentum) converges quickly but the blue line (momentum rate of `0.001`) converges slightly faster. The worst performer was the green line (momentum rate of `0.100`) which did converge to close to global minima but did not perform as well as the other three. A momentum rate of `0.001` is ideal if just because it converged a few epochs sooner.\n",
    "\n",
    "The Iris data set is a poor example to examine momentum rate, but were you to try on higher dimensional data, you'd see a poor momentum rate would converge early to an non-optimal solution, suggesting the gradient descent got trapped in a local minima and failed to find the global minima. You can somewhat see this with the green line but it is difficult to discern the actual impact to performance. As mentioned before, not every problem will demand the use of momentum.\n",
    "\n",
    "This is all just playing around with parameters, though. This is just to illustrate that parameter choice is important, but you should do your own experiments with your own data to see what works. You can also change the hidden layer structure as a parameter, but I just kept it simple.\n",
    "\n",
    "## Final Thoughts\n",
    "\n",
    "By using a neural network, you can approach classification problems with relative ease. If you have in mind good parameters and a nice hidden layer(s) structure, a neural network can be applied to any kind of data provided you have some already classified data first.\n",
    "\n",
    "From this tutorial you should have learned a very high-level idea of what a neural network is and how it works, and you would have learned how to implement a vanilla backpropagation network.\n",
    "\n",
    "There are still things you can experiment with: using multiple hidden layers, doing batch learning rather than online learning, even some of the different types of neural network training schemes like resilient backpropagation and Quickprop. This tutorial only covers the absolute basics. You may also wish to investigate more of the math involved as I have explained very little here.\n",
    "\n",
    "I hope this tutorial helps if you were confused with or just wanted to implement a neural network.\n",
    "\n",
    "## Finished Code\n",
    "\n",
    "Here is the full uncommented code along with one final plot of the MSE and accuracy over time:"
   ]
  },
  {
   "cell_type": "code",
   "execution_count": 23,
   "metadata": {},
   "outputs": [
    {
     "data": {
      "image/png": "[encoded data removed]",
      "text/plain": [
       "<Figure size 432x288 with 2 Axes>"
      ]
     },
     "metadata": {
      "needs_background": "light"
     },
     "output_type": "display_data"
    },
    {
     "data": {
      "text/plain": [
       "<Figure size 432x288 with 0 Axes>"
      ]
     },
     "metadata": {},
     "output_type": "display_data"
    }
   ],
   "source": [
    "#!/usr/bin/env python3\n",
    "\n",
    "import random\n",
    "import csv\n",
    "import matplotlib.pyplot as plt\n",
    "from math import exp, floor, ceil\n",
    "\n",
    "def stochastic_gradient_descent(network, classes, training_data):\n",
    "    for _ in range(0, EPOCHS):\n",
    "        first_example = True\n",
    "        total_error = 0.00\n",
    "        for example in training_data:\n",
    "            temporal_delta = [neuron['d'] \\\n",
    "                for layer in network for neuron in layer] \\\n",
    "                if not first_example else None\n",
    "            outputs = [0 for _ in range(classes)]\n",
    "            outputs[int(example[-1])] = 1\n",
    "            actual = feed_forward(network, example)\n",
    "            total_error += sse(actual, outputs)\n",
    "            backpropagate(network, outputs)\n",
    "            update_weights(network, example, temporal_delta)\n",
    "            reset_neurons(network)\n",
    "            first_example = False\n",
    "        MSE.append(total_error/len(training_data))\n",
    "        TRP.append(performance_measure(NETWORK, TRAIN))\n",
    "        TEP.append(performance_measure(NETWORK, TEST))\n",
    "\n",
    "def feed_forward(network, example):\n",
    "    layer_input, layer_output = example, []\n",
    "    for layer in network:\n",
    "        for neuron in layer:\n",
    "            summ = summing_function(neuron['w'], layer_input)\n",
    "            neuron['o'] = activation_function(summ)\n",
    "            layer_output.append(neuron['o'])\n",
    "        layer_input, layer_output = layer_output, []\n",
    "    return layer_input\n",
    "\n",
    "def backpropagate(network, example):\n",
    "    for i in range(len(network)-1, -1, -1):\n",
    "        for j in range(len(network[i])):\n",
    "            err = 0.00\n",
    "            if i == len(network)-1:\n",
    "                err = example[j] - network[i][j]['o']\n",
    "            else:\n",
    "                summ = 0.00\n",
    "                for neuron in network[i+1]:\n",
    "                    summ += neuron['w'][j] * neuron['d']\n",
    "                err = summ\n",
    "            network[i][j]['d'] = activation_derivative(network[i][j]['o']) * err\n",
    "\n",
    "def reset_neurons(network):\n",
    "    for layer in network:\n",
    "        for neuron in layer:\n",
    "            neuron['o'] = 0\n",
    "\n",
    "def update_weights(network, example, delta):\n",
    "    for i in range(len(network)):\n",
    "        if i != 0:\n",
    "            t = [neuron['o'] for neuron in network[i-1]]\n",
    "        else:\n",
    "            t = example[:-1]\n",
    "        for neuron, d in zip(network[i], range(0, len(network[i]))):\n",
    "            for f in range(len(t)):\n",
    "                neuron['w'][f] += LEARNING_RATE * float(t[f]) * neuron['d']\n",
    "                if delta is not None:\n",
    "                    neuron['w'][f] += MOMENTUM_RATE * delta[d]\n",
    "                neuron['w'][-1] += LEARNING_RATE * neuron['d']\n",
    "\n",
    "def sse(actual, target):\n",
    "    summ = 0.00\n",
    "    for i in range(len(actual)):\n",
    "        summ += (actual[i] - target[i])**2\n",
    "    return summ\n",
    "\n",
    "def activation_function(z):\n",
    "    return 1 / (1 + exp(-z))\n",
    "\n",
    "def activation_derivative(z):\n",
    "    return z * (1 - z)\n",
    "\n",
    "def summing_function(weights, inputs):\n",
    "    bias = weights[-1]\n",
    "    summ = 0.00\n",
    "    for i in range(len(weights)-1):\n",
    "        summ += (weights[i] * float(inputs[i]))\n",
    "    return summ + bias\n",
    "\n",
    "def performance_measure(network, data):\n",
    "    correct, total = 0, 0\n",
    "    for example in data:\n",
    "        if check_output(network, example) == float(example[-1]):\n",
    "            correct += 1\n",
    "        total += 1\n",
    "    return 100*(correct / total)\n",
    "\n",
    "def check_output(network, example):\n",
    "    output = feed_forward(network, example)\n",
    "    return output.index(max(output))\n",
    "\n",
    "def initialize_network(n, h, o):\n",
    "    def r():\n",
    "        return random.uniform(-0.50, 0.50)\n",
    "    neural_network = []\n",
    "    neural_network.append([{'w':[r() for i in range(n+1)]} for j in range(h)])\n",
    "    neural_network.append([{'w':[r() for i in range(h+1)]} for j in range(o)])\n",
    "    return neural_network\n",
    "\n",
    "def load_data(filename):\n",
    "    with open(filename, newline='\\n') as csv_file:\n",
    "        data = []\n",
    "        rows = csv.reader(csv_file, delimiter=',')\n",
    "        for row in rows:\n",
    "            data.append(row)\n",
    "    random.shuffle(data)\n",
    "    training_data = data[:floor(len(data)*0.70)]\n",
    "    testing_data = data[-ceil(len(data)*0.30):]\n",
    "    return training_data, testing_data\n",
    "\n",
    "def plot_data():\n",
    "    x = range(0, EPOCHS)\n",
    "    fig, ax2 = plt.subplots()\n",
    "    ax2.set_xlabel('Epoch')\n",
    "    ax2.set_ylabel('MSE', color='blue')\n",
    "    line, = ax2.plot(x, MSE, '-', c='blue', lw='1', label='MSE')\n",
    "    ax1 = ax2.twinx()\n",
    "    ax1.set_ylabel('Accuracy (%)', color='green')\n",
    "    line2, = ax1.plot(x, TRP, '-', c='green', lw='1', label='Training')\n",
    "    line3, = ax1.plot(x, TEP, ':', c='green', lw='1', label='Testing')\n",
    "    fig.tight_layout()\n",
    "    fig.legend(loc='center')\n",
    "    ax1.set_ylim(0, 101)\n",
    "    plt.show()\n",
    "    plt.clf()\n",
    "\n",
    "if __name__ == '__main__':\n",
    "    TRAIN, TEST = load_data('./data/iris.csv')\n",
    "    FEATURES = len(TRAIN[0][:-1])\n",
    "    CLASSES = len(list(set([c[-1] for c in TRAIN])))\n",
    "    NETWORK = initialize_network(FEATURES, 5, CLASSES)\n",
    "    LEARNING_RATE, MOMENTUM_RATE = 0.100, 0.001\n",
    "    EPOCHS = 200\n",
    "    MSE, TRP, TEP = [], [], []\n",
    "    stochastic_gradient_descent(NETWORK, CLASSES, TRAIN)\n",
    "    plot_data()"
   ]
  },
  {
   "cell_type": "markdown",
   "metadata": {},
   "source": [
    "You may wish to catch for errors (as I have done none here), and perhaps accept some of the parameters as command line arguments. This code, as-is, should run in a terminal but allows for zero customization unless you change the code manually. Some parameters might include hidden layer size, learning and momentum rates, even selection of activation function if you choose to implement another.\n",
    "\n",
    "You can save this code as `backprop_network.py` and execute it as one of the below:\n",
    "\n",
    "```\n",
    "$ python3 backprop_network.py\n",
    "$ ./backprop_network.py\n",
    "```\n",
    "\n",
    "You can also find the code in `./code` and a more fleshed out version with error handling, command-line arguments, etc. <a href=\"https://github.com/stratzilla/backprop-neural-network\">here</a>."
   ]
  }
 ],
 "metadata": {
  "kernelspec": {
   "display_name": "Python 3",
   "language": "python",
   "name": "python3"
  },
  "language_info": {
   "codemirror_mode": {
    "name": "ipython",
    "version": 3
   },
   "file_extension": ".py",
   "mimetype": "text/x-python",
   "name": "python",
   "nbconvert_exporter": "python",
   "pygments_lexer": "ipython3",
   "version": "3.6.9"
  }
 },
 "nbformat": 4,
 "nbformat_minor": 4
}
