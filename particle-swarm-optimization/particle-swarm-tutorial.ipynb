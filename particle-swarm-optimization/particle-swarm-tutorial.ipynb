{
 "cells": [
  {
   "cell_type": "markdown",
   "metadata": {},
   "source": [
    "# Particle Swarm Optimization Tutorial\n",
    "\n",
    "This is a tutorial to implement a particle swarm optimization (PSO) algorithm using continuous numerical data. There are a few ways to approach an implementation of PSO but the most basic involves particles in a two-dimensional space--what this tutorial will implement. Feel free to distribute, edit, make changes, improve, etc. this tutorial. If you publish this tutorial elsewhere, please let me know and link back.\n",
    "\n",
    "## Particle Swarms\n",
    "\n",
    "PSO is a type of artificial intelligence algorithm which is inspired by behavior of flocks of birds. PSO falls broadly under the spectrum of swarm intelligence algorithms which include others like bee colony optimization, ant colony optimization, and so on.\n",
    "\n",
    "The goal of PSO is to optimize a set of solutions to a problem based on some fitness function. By encoding solutions as particles or point in `n`-space with a value for position and velocity, the swarm particles can reposition themselves to be closer to an optimization problem optima based on the fitness of the swarm and individual particles within the swarm. Given an initial random population (swarm) of solutions (particles) to the problem, members of the swarm will eventually converge to a global optima provided parameters are appropriate.\n",
    "\n",
    "To perform PSO, you need to know a few things things:\n",
    "\n",
    "- what is the search space?\n",
    "- what is the fitness function?\n",
    "- what are the PSO parameters?\n",
    "\n",
    "The search space being the possible space in which the solution lies and the fitness function being a heuristic to gauge how fit a solution is. There are three PSO parameters of import: inertial weight (denoted by $\\omega$), which is the resistance to a change in particle velocity; the cognitive coefficient (denoted by $c_1$), which allows for global exploration and local exploitation; and the social coefficient (denoted by $c_2$), which is for global exploitation and local exploration. Exploration means searching within a specific area and exploitation is focusing on promising areas as found from exploration.\n",
    "\n",
    "PSO is commonly referred to as a metaheuristic, or a procedure which generates a solution to an optimization problem. It's not guaranteed to be optimal, but it is a more \"informed\" search than random. Given the search space and fitness function, the algorithms generates generally good solution. Metaheuristics can be used problem agnostic and can be applied to almost anything. One interesting way to use PSO is to train a neural network.\n",
    "\n",
    "Just as a note on terminology, I say \"solution\", \"candidate\", \"particle\" interchangeably: they mean the same thing and is just a possible solution to the problem being optimized. The most proper term would be \"particle\".\n",
    "\n",
    "## Pseudocode\n",
    "\n",
    "A typical PSO algorithm may follow the below pseudocode:\n",
    "\n",
    "```\n",
    "procedure pso() is:\n",
    "  initialize random swarm s of particles\n",
    "  for each epoch do:\n",
    "    for each particle p in swarm s do:\n",
    "      for each dimension d in search space do:\n",
    "        new_vel, new_pos = [], []\n",
    "        new_vel[d] := w * p.vel\n",
    "        new_vel[d] += c1 * r1 * (p.best_pos[d] - p.pos[d])\n",
    "        new_vel[d] += c2 * r2 * (s.best_pos[d] - p.pos[d])\n",
    "        new_pos[d] := p.pos[d] + new_vel[d]\n",
    "      endfor\n",
    "      p.vel = new_vel\n",
    "      p.pos = new_pos\n",
    "    endfor\n",
    "    for each particle p in swarm s do:\n",
    "      if fitness(p.pos) < p.fit do:\n",
    "        p.fit := fitness(p.pos)\n",
    "      endif\n",
    "    endfor\n",
    "    update swarm best\n",
    "    update particle bests\n",
    "  endfor\n",
    "endprocedure\n",
    "```\n",
    "\n",
    "## Before you Begin\n",
    "\n",
    "This tutorial uses Python with one dependency which needs to be met:\n",
    "\n",
    "- Python 3.6\n",
    "- GNU/Linux (or WSL, LXSS, etc)\n",
    "- X11 or alternative\n",
    "- `matplotlib`\n",
    "\n",
    "You can install `matplotlib` using `pip` although it's not entirely necessary to have `matplotlib` as it's only for illustrative purposes for this tutorial. It can be omitted if desired.\n",
    "\n",
    "## Defining the Search Space and Fitness Function\n",
    "\n",
    "This tutorial will use a common optimization test problem, the Schwefel Function, which is defined as:\n",
    "\n",
    "$$f(x) = 418.9829 \\times d - \\sum_{i=1}^d (x_i \\times \\sin{\\sqrt{|x_i|}})$$\n",
    "\n",
    "And can be visualized in two dimensions as below:\n",
    "\n",
    "<img src=\"./images/schwefel.png\"/>\n",
    "\n",
    "This function can be applied to any dimensionality and has a global minimum of $f(x^*) = 0$ at $x^* = (420.9687, ..., 420.9687)$. For this tutorial, I'll be using a dimensionality of two to best visualize on a 2D plot. We can see this in a map:\n",
    "\n",
    "<img src=\"./images/schwefel-map.png\"/>\n",
    "\n",
    "Note the darkest blue region is around the global optima. This function was chosen specifically because it has many local minimum, something PSO excels at escaping. The `gnuplot` code to generate both can of these images can be found in `/code`.\n",
    "\n",
    "We have the fitness function, what about the search space? The interval in which our particles will reside is `[-500, 500]`. We'll use this information to also generate a swarm later. We wish to initialize a random swarm within these bounds as this is our search space. Particles in our swarm will be described as arrays of length `d`, where `d` is the dimensionality of the problem--in this case, two.\n",
    "\n",
    "We'll define the search space and fitness function now:"
   ]
  },
  {
   "cell_type": "code",
   "execution_count": 1,
   "metadata": {},
   "outputs": [],
   "source": [
    "from math import sin, sqrt\n",
    "\n",
    "SEARCH_MIN = -500 # minimum in search space\n",
    "SEARCH_MAX = 500 # maximum in search space\n",
    "DIMENSIONS = 2 # dimensionality of the problem\n",
    "\n",
    "def schwefel(particle):\n",
    "    \"\"\"PSO fitness function.\n",
    "    Uses Schwefel function in d dimensions.\n",
    "    \n",
    "    Parameters:\n",
    "        particle : a particle in d-space.\n",
    "    \n",
    "    Returns:\n",
    "        The fitness of that particle.\n",
    "    \"\"\"\n",
    "    summ = 0\n",
    "    for d in particle:\n",
    "        summ += d * sin(sqrt(abs(d)))\n",
    "    return (len(particle) * 418.9829) - summ"
   ]
  },
  {
   "cell_type": "markdown",
   "metadata": {},
   "source": [
    "Just to verify the function is working as intended, we'll generate a \"perfect particle\" with the known optimal position and evaluate its fitness:"
   ]
  },
  {
   "cell_type": "code",
   "execution_count": 2,
   "metadata": {},
   "outputs": [
    {
     "name": "stdout",
     "output_type": "stream",
     "text": [
      "2.545567497236334e-05\n"
     ]
    }
   ],
   "source": [
    "OPTIMAL_PARTICLE = [420.9687 for _ in range(DIMENSIONS)]\n",
    "print(schwefel(OPTIMAL_PARTICLE))"
   ]
  },
  {
   "cell_type": "markdown",
   "metadata": {},
   "source": [
    "This is not exact but $2.55\\times10^{-5}$ is arbitrarily close to the optima $0$, close enough for our purposes. We know our global minimum is around this point at the very least. We've initialized this as a global variable because soon we'll want to see where the minimum is in our plots.\n",
    "\n",
    "## Particle Representation\n",
    "\n",
    "Particles with be represented as a position in each dimension as well as a velocity in each dimension. To do this, we'll make a Particle class to store this information. We also need a way to store a particle's previous best position, its current fitness, and best fitness."
   ]
  },
  {
   "cell_type": "code",
   "execution_count": 3,
   "metadata": {},
   "outputs": [],
   "source": [
    "class Particle:\n",
    "    \"\"\"Particle class.\n",
    "    Containzerizes a position, velocity.\n",
    "    \n",
    "    Attributes:\n",
    "        pos : the position in n-space.\n",
    "        best_pos : the best position this particle has had.\n",
    "        fit : the fitness of the particle.\n",
    "        best_fit : the best fitness this particle has had.\n",
    "        vel : the velocity in n-space.\n",
    "    \"\"\"\n",
    "    \n",
    "    def __init__(self, pos, vel):\n",
    "        \"\"\"Particle constructor.\"\"\"\n",
    "        # initialize position and velocity as params\n",
    "        self.pos, self.vel = pos, vel\n",
    "        # find fitness at instantiation\n",
    "        self.fit = schwefel(self.pos)\n",
    "        # best so far is just initial\n",
    "        self.best_pos, self.best_fit = self.pos, self.fit\n",
    "    \n",
    "    def set_pos(self, pos):\n",
    "        \"\"\"Position mutator method.\"\"\"\n",
    "        self.pos = pos\n",
    "        # get fitness of new position if the new\n",
    "        # position is still within the search\n",
    "        # space. Otherwise don't update fitness\n",
    "        if not any(p < SEARCH_MIN for p in pos)\\\n",
    "        and not any(p > SEARCH_MAX for p in pos):\n",
    "            # get the fitness\n",
    "            fitness = schwefel(self.pos)\n",
    "            # if better\n",
    "            if fitness < self.best_fit:\n",
    "                self.fit = fitness\n",
    "                # update best fitness\n",
    "                self.best_fit = self.fit\n",
    "                # update best position\n",
    "                self.best_pos = self.pos\n",
    "    \n",
    "    def set_vel(self, vel):\n",
    "        \"\"\"Velocity mutator method.\"\"\"\n",
    "        self.vel = vel\n",
    "    \n",
    "    def get_pos(self):\n",
    "        \"\"\"Position accessor method.\"\"\"\n",
    "        return self.pos\n",
    "    \n",
    "    def get_vel(self):\n",
    "        \"\"\"Velocity accessor method.\"\"\"\n",
    "        return self.vel\n",
    "    \n",
    "    def get_best_pos(self):\n",
    "        \"\"\"Best position accessor method.\"\"\"\n",
    "        return self.best_pos\n",
    "\n",
    "    def get_fit(self):\n",
    "        \"\"\"Fitness accessor method.\"\"\"\n",
    "        return self.fit\n",
    "    \n",
    "    def get_best_fit(self):\n",
    "        \"\"\"Best fitness accessor method.\"\"\"\n",
    "        return self.best_fit"
   ]
  },
  {
   "cell_type": "markdown",
   "metadata": {},
   "source": [
    "Since we now how how particles are represented, we can make a swarm of them.\n",
    "\n",
    "## Swarm Initialization\n",
    "\n",
    "First, we need to initialize an initial swarm. Since we know the search space boundaries, our swarm consists of particles in `2`-space where each axis is randomized within the bounds of the search space. Recall a particle is just an encoding of some solution to the problem: our solutions are in two dimensions so particles are also in two dimensions. Additionally, we'll start with a swarm size of `200`:"
   ]
  },
  {
   "cell_type": "code",
   "execution_count": 4,
   "metadata": {},
   "outputs": [],
   "source": [
    "import random\n",
    "\n",
    "SWARM_SIZE = 200 # how large our swarm is\n",
    "\n",
    "def initialize_swarm(size, dim, min, max):\n",
    "    \"\"\"Swarm initialization function.\n",
    "    \n",
    "    Parameters:\n",
    "        size : the size of our swarm.\n",
    "        dim : the dimensionality of the problem.\n",
    "        min : the minimum in a dimension for the search space.\n",
    "        max : the maximum in a dimension for the search space.\n",
    "    \n",
    "    Returns:\n",
    "        A random swarm of that many Particles within the bounds of the space.\n",
    "    \"\"\"\n",
    "    swarm = [] # swarm stored as list\n",
    "    for _ in range(size): # for the size of the swarm\n",
    "        # position is random in every dimension\n",
    "        position = [random.uniform(min, max) for _ in range(dim)]\n",
    "        # velocity is initially zero in every dimension\n",
    "        velocity = [0 for _ in range(dim)]\n",
    "        # init a particle\n",
    "        particle = Particle(position, velocity)\n",
    "        swarm.append(particle) # add to swarm\n",
    "    return swarm\n",
    "\n",
    "SWARM = initialize_swarm(SWARM_SIZE, DIMENSIONS, SEARCH_MIN, SEARCH_MAX)"
   ]
  },
  {
   "cell_type": "markdown",
   "metadata": {},
   "source": [
    "To show our initialization is correct, we'll print out a few particles and examine their positions and fitnesses:"
   ]
  },
  {
   "cell_type": "code",
   "execution_count": 5,
   "metadata": {},
   "outputs": [
    {
     "name": "stdout",
     "output_type": "stream",
     "text": [
      "[132.1122095054567, -345.59243830350596] = 865.3464638614537\n",
      "[-323.7980888932579, -102.02603846134105] = 529.7653393000207\n",
      "[106.30303354933301, -184.30057325146873] = 1076.2821135584174\n",
      "[135.7042670571525, 169.92525193245137] = 868.8671987423096\n",
      "[61.69931779065473, -420.4552134169011] = 1195.2161254015616\n"
     ]
    }
   ],
   "source": [
    "random.shuffle(SWARM)\n",
    "for i in range(5):\n",
    "    print(SWARM[i].get_pos(), \"=\", SWARM[i].get_fit())"
   ]
  },
  {
   "cell_type": "markdown",
   "metadata": {},
   "source": [
    "Here we can see our particles are in two dimensions and each axis is within the bounds of `[-500, 500]`. We'll be using `matplotlib` to plot these to see where particles lay within the search space. We've chosen to do this in two dimensions as it is difficult to visualize on a 2D plot otherwise."
   ]
  },
  {
   "cell_type": "code",
   "execution_count": 6,
   "metadata": {},
   "outputs": [
    {
     "data": {
      "image/png": "[encoded data removed]",
      "text/plain": [
       "<Figure size 432x288 with 1 Axes>"
      ]
     },
     "metadata": {
      "needs_background": "light"
     },
     "output_type": "display_data"
    },
    {
     "data": {
      "text/plain": [
       "<Figure size 432x288 with 0 Axes>"
      ]
     },
     "metadata": {},
     "output_type": "display_data"
    }
   ],
   "source": [
    "import matplotlib.pyplot as plt\n",
    "\n",
    "def plot_particles(swarm, opt):\n",
    "    x = [swarm[i].get_pos()[0] for i in range(len(swarm))]\n",
    "    y = [swarm[i].get_pos()[1] for i in range(len(swarm))]\n",
    "    plt.xlabel('x')\n",
    "    plt.ylabel('y')\n",
    "    plt.xlim(SEARCH_MIN, SEARCH_MAX)\n",
    "    plt.ylim(SEARCH_MIN, SEARCH_MAX)\n",
    "    plt.scatter(x, y, c='k', s=5, lw=1)\n",
    "    plt.scatter(opt[0], opt[1], c='r', marker='x', s=30, lw=1)\n",
    "    plt.show()\n",
    "    plt.clf()\n",
    "\n",
    "plot_particles(SWARM, OPTIMAL_PARTICLE)"
   ]
  },
  {
   "cell_type": "markdown",
   "metadata": {},
   "source": [
    "Here you can see particles as a black dot and uniformly distributed within the search space and the optimum as a red 'x'. We'll use this function a few more times to visualize how points slowly converge upon the optimum.\n",
    "\n",
    "## Moving Particles\n",
    "\n",
    "Particles move within the search space based on the PSO parameters: the inertial weight and social and cognitive coefficients. These should be empirically found for each problem and shouldn't be known a priori but there are a few shortcuts that can be used: some parameter choices have been empirically found to work well if not great for most problems.\n",
    "\n",
    "Here we'll use some parameters found to be generally great for most problems:"
   ]
  },
  {
   "cell_type": "code",
   "execution_count": 7,
   "metadata": {},
   "outputs": [],
   "source": [
    "W = 0.729844 # intertial weight\n",
    "C_1 = 1.496180 # cognitive coefficient\n",
    "C_2 = 1.496180 # social coefficient"
   ]
  },
  {
   "cell_type": "markdown",
   "metadata": {},
   "source": [
    "Note `C_1` is equal to `C_2`, giving equivalent import on local exploration/global exploitation and local exploitation/global exploration.\n",
    "\n",
    "To actually move the particles, we need a way to find the swarm best position:"
   ]
  },
  {
   "cell_type": "code",
   "execution_count": 8,
   "metadata": {},
   "outputs": [],
   "source": [
    "def get_swarm_best(swarm):\n",
    "    \"\"\"Finds the swarm best fitness and position.\n",
    "    \n",
    "    Parameters:\n",
    "        swarm : the swarm to search.\n",
    "        \n",
    "    Returns:\n",
    "        The swarm best fitness and swarm best position.\n",
    "    \"\"\"\n",
    "    # initially assume the first is the best\n",
    "    best_fit = swarm[0].get_fit()\n",
    "    best_pos = swarm[0].get_pos()\n",
    "    for particle in swarm: # for each particle\n",
    "        # if better fitness found\n",
    "        if particle.get_fit() < best_fit:\n",
    "            # update best fitness and position\n",
    "            best_fit = particle.get_fit()\n",
    "            best_pos = particle.get_pos()\n",
    "    return best_fit, best_pos"
   ]
  },
  {
   "cell_type": "markdown",
   "metadata": {},
   "source": [
    "We can try this out:"
   ]
  },
  {
   "cell_type": "code",
   "execution_count": 9,
   "metadata": {},
   "outputs": [
    {
     "name": "stdout",
     "output_type": "stream",
     "text": [
      "Best position: [397.8972501979873, 453.3622895984888]\n",
      "Best fitness: 192.09115213681207\n"
     ]
    }
   ],
   "source": [
    "def print_best(best):\n",
    "    print(f'Best position: {best[1]}')\n",
    "    print(f'Best fitness: {best[0]}')\n",
    "    \n",
    "print_best(get_swarm_best(SWARM))"
   ]
  },
  {
   "cell_type": "markdown",
   "metadata": {},
   "source": [
    "Recall the best fitness is $0$, so we have a ways to go. We'll use this function several times when we update our positions. And about updating the positions, it is simply a function of the swarm best position, each particle's best position, their current positions and velocities, and the PSO parameters as defined previously. The math is below:\n",
    "\n",
    "$$p_i(t+1) = p_i(t) + v_i(t+1)$$\n",
    "\n",
    "Or, for a dimension $i$, the new position in that dimension is a function of its prior position and new velocity. Here $(t+1)$ means the current iterative step and $t$ is the prior. The new velocity is calculated as:\n",
    "\n",
    "$$v_i(t+1) = \\omega v_i(t) + c_1r_1(y(t) - x_i(t)) + c_2r_2(\\hat{y}(t) - x_i(t))$$\n",
    "\n",
    "Where $\\omega$ is the inertial weight, $c_1$ and $c_2$ are the cognitive and social coefficients respectively, $r_1$ and $r_2$ are stochastic multiplicands, and $y$ and $\\hat{y}$ is the particle best position and swarm best position respectively. It's useful to think of it split into three separate terms: a weight term ($w$), a cognitive term ($c$) and a social term ($s$):\n",
    "\n",
    "$$\\begin{align}\n",
    "w &= \\omega v_i(t) \\nonumber \\\\\n",
    "c &= c_1r_1 (y(t) - x_i(t)) \\nonumber \\\\\n",
    "s &= c_2r_2 (\\hat{y}(t) - x_i(t)) \\nonumber \n",
    "\\end{align}$$\n",
    "\n",
    "Since each term in order deals with the inertial weight, cognitive aspect, and social aspect of the velocity update. The new velocity is simply:\n",
    "\n",
    "$$v_i(t+1) = w + c + s$$\n",
    "\n",
    "We'll implement particle movement below:"
   ]
  },
  {
   "cell_type": "code",
   "execution_count": 10,
   "metadata": {},
   "outputs": [],
   "source": [
    "def move_particles(swarm):\n",
    "    \"\"\"Particle movement function.\n",
    "    \n",
    "    Parameters:\n",
    "        swarm : the swarm to move.\n",
    "    \"\"\"\n",
    "    # get swarm bests\n",
    "    swarm_best = get_swarm_best(swarm)\n",
    "    for particle in swarm: # for each particle\n",
    "        # new position and velocity is initially zero\n",
    "        new_pos = [0 for _ in range(DIMENSIONS)]\n",
    "        new_vel = [0 for _ in range(DIMENSIONS)]\n",
    "        for d in range(DIMENSIONS): # for each axis\n",
    "            # the social and cognitive coefficients \n",
    "            # take a stochastic multiplicand\n",
    "            R_1 = random.uniform(0.00, 1.00)\n",
    "            R_2 = random.uniform(0.00, 1.00)\n",
    "            # this is split for readability but the update is based\n",
    "            # on an addition of a weight, cognitive, and social term\n",
    "            weight = W * particle.get_vel()[d]\n",
    "            cognitive = C_1 * R_1\n",
    "            cognitive *= (particle.get_best_pos()[d] - particle.get_pos()[d])\n",
    "            social = C_2 * R_2\n",
    "            social *= (swarm_best[1][d] - particle.get_pos()[d])\n",
    "            # new velocity is simply weight + cognitive + social\n",
    "            new_vel[d] = weight + cognitive + social\n",
    "            # new position is just old position + velocity\n",
    "            new_pos[d] = particle.get_pos()[d] + new_vel[d]\n",
    "        # update particle with new position and velocity\n",
    "        particle.set_pos(new_pos)\n",
    "        particle.set_vel(new_vel)    "
   ]
  },
  {
   "cell_type": "markdown",
   "metadata": {},
   "source": [
    "The above function will move particles in a way to reach a better fitness. We can verify that by running it, monitoring the swarm best position and fitness."
   ]
  },
  {
   "cell_type": "code",
   "execution_count": 11,
   "metadata": {},
   "outputs": [
    {
     "name": "stdout",
     "output_type": "stream",
     "text": [
      "Before movement:\n",
      "Best position: [397.8972501979873, 453.3622895984888]\n",
      "Best fitness: 192.09115213681207\n",
      "\n",
      "After movement:\n",
      "Best position: [428.7136199467444, 437.2562098977089]\n",
      "Best fitness: 40.811954301692595\n"
     ]
    }
   ],
   "source": [
    "print(f'Before movement:')\n",
    "print_best(get_swarm_best(SWARM))\n",
    "\n",
    "move_particles(SWARM)\n",
    "\n",
    "print(f'\\nAfter movement:')\n",
    "print_best(get_swarm_best(SWARM))"
   ]
  },
  {
   "cell_type": "markdown",
   "metadata": {},
   "source": [
    "Here we can see the swarm best position closes in on the optimal position and the fitness does approach $0$. This is in essence what PSO accomplishes: the algorithm isn't that long or complex and we've pretty much finished. Before I make a main driver for the algorithm, I'll show what the new plot looks like."
   ]
  },
  {
   "cell_type": "code",
   "execution_count": 12,
   "metadata": {},
   "outputs": [
    {
     "data": {
      "image/png": "[encoded data removed]",
      "text/plain": [
       "<Figure size 432x288 with 1 Axes>"
      ]
     },
     "metadata": {
      "needs_background": "light"
     },
     "output_type": "display_data"
    },
    {
     "data": {
      "text/plain": [
       "<Figure size 432x288 with 0 Axes>"
      ]
     },
     "metadata": {},
     "output_type": "display_data"
    }
   ],
   "source": [
    "plot_particles(SWARM, OPTIMAL_PARTICLE)"
   ]
  },
  {
   "cell_type": "markdown",
   "metadata": {},
   "source": [
    "Here you can see all of the particles have approached the optima to some degree. Were we to run this a few more times, it would get ever more closer. This leads well into our main driver.\n",
    "\n",
    "## Main Driver\n",
    "\n",
    "We'll combine everything thus far into one main driver which will move particles over many epochs. It will also output the swarm best fitness as well as what the final plot looks like."
   ]
  },
  {
   "cell_type": "code",
   "execution_count": 13,
   "metadata": {
    "scrolled": true
   },
   "outputs": [
    {
     "name": "stdout",
     "output_type": "stream",
     "text": [
      "Epoch 0, Best = 159.79625052137567\n",
      "Epoch 10, Best = 6.791653509486878\n",
      "Epoch 20, Best = 6.791653509486878\n",
      "Epoch 30, Best = 0.4872051415511578\n",
      "Epoch 40, Best = 0.07243380432009872\n",
      "Epoch 50, Best = 0.021283036086515494\n",
      "Epoch 60, Best = 0.004067141952418751\n",
      "Epoch 70, Best = 0.004067141952418751\n",
      "Epoch 80, Best = 0.0035295543207212177\n",
      "Epoch 90, Best = 0.00026627935983469797\n",
      "Epoch 100, Best = 2.6744321985461283e-05\n"
     ]
    },
    {
     "data": {
      "image/png": "[encoded data removed]",
      "text/plain": [
       "<Figure size 432x288 with 1 Axes>"
      ]
     },
     "metadata": {
      "needs_background": "light"
     },
     "output_type": "display_data"
    },
    {
     "name": "stdout",
     "output_type": "stream",
     "text": [
      "The minimum for the fitness function was found to be 0.00.\n"
     ]
    },
    {
     "data": {
      "text/plain": [
       "<Figure size 432x288 with 0 Axes>"
      ]
     },
     "metadata": {},
     "output_type": "display_data"
    }
   ],
   "source": [
    "EPOCHS = 100\n",
    "\n",
    "def pso(dim, epochs):\n",
    "    \"\"\"Particle Swarm Optimization driver.\n",
    "    Initializes the swarm and improves it over time.\n",
    "    \n",
    "    Parameters:\n",
    "        dim : the dimensionality of the problem.\n",
    "        epochs : how many iterations.\n",
    "    \n",
    "    Returns:\n",
    "        Swarm best fitness after optimizing.\n",
    "    \"\"\"\n",
    "    # initialize the swarm based on problem scope and swarm size\n",
    "    swarm = initialize_swarm(SWARM_SIZE, dim, SEARCH_MIN, SEARCH_MAX)\n",
    "    # output initial best fitness\n",
    "    initial_best = get_swarm_best(swarm)[0]\n",
    "    print_stats(0, initial_best)\n",
    "    for e in range(1, epochs+1): # for each iteration\n",
    "        move_particles(swarm) # move particles to more fit neighborhood\n",
    "        if e % 10 == 0:\n",
    "            # every 10th epoch, print new best fitness\n",
    "            epoch_best = get_swarm_best(swarm)[0]\n",
    "            print_stats(e, epoch_best)\n",
    "    # plot the final particles\n",
    "    plot_particles(swarm, OPTIMAL_PARTICLE)\n",
    "    # return the swarm best fitness\n",
    "    return get_swarm_best(swarm)[0]\n",
    "    \n",
    "def print_stats(epoch, best):\n",
    "    print(f'Epoch {epoch}, Best = {best}')\n",
    "\n",
    "best = pso(DIMENSIONS, EPOCHS)\n",
    "print(f'The minimum for the fitness function was found to be {best:.2f}.')"
   ]
  },
  {
   "cell_type": "markdown",
   "metadata": {},
   "source": [
    "Here you can see after a hundred iterations, most of the particles congregate at or around the optimum, our intended behavior. There are a few outliers trapped in local minimum but that's okay. We only particularly care about the swarm best which does find the minimum of the optimization problem.\n",
    "\n",
    "For fun, here's an animation of a full run-through using the same parameters as above:\n",
    "\n",
    "<img width=\"432px\" src=\"./images/animation.gif\"/>\n",
    "\n",
    "Here you see how the swarm does zero in on the optimum. It's quite artistic in a way as it does really simulate something akin to birds converging onto prey.\n",
    "\n",
    "Other than that, this wraps up the particle swarm optimization tutorial.\n",
    "\n",
    "## Final Thoughts\n",
    "\n",
    "Particle swarm optimization can help you find global optima for a fitness function if it's not know a priori or is laborious to find manually. Provided you know the search space and the function to optimize, it's very fast and efficient.\n",
    "\n",
    "There's a lot more applications to PSO than the trivial example I've used here but since the algorithm is dimensionality and problem agnostic, it can be applied to anything without large changes. It's also a very short algorithm which makes it apt for optimization purposes, at least when compared to something like a genetic algorithm.\n",
    "\n",
    "Further reading might be on advanced forms of PSO. PSO is good at getting out of local minimum but it's not perfect. Over the years there's been numerous refinements to the algorithm to alleviate this. You can also split swarms into multiple packs (look up Grey Wolf Optimization for something akin to this), try different parameters, or add a local search when particles get trapped in local optima.\n",
    "\n",
    "## Finished Code\n",
    "\n",
    "Find below the full uncommented code:"
   ]
  },
  {
   "cell_type": "code",
   "execution_count": null,
   "metadata": {},
   "outputs": [],
   "source": [
    "#!/usr/bin/env python3\n",
    "\n",
    "from math import sin, sqrt\n",
    "import random\n",
    "\n",
    "class Particle:\n",
    "    def __init__(self, pos, vel):\n",
    "        self.pos, self.vel = pos, vel\n",
    "        self.fit = schwefel(self.pos)\n",
    "        self.best_pos, self.best_fit = self.pos, self.fit\n",
    "\n",
    "    def set_pos(self, pos):\n",
    "        self.pos = pos\n",
    "        if not any(p < SEARCH_MIN for p in pos)\\\n",
    "        and not any(p > SEARCH_MAX for p in pos):\n",
    "            fitness = schwefel(self.pos)\n",
    "            if fitness < self.best_fit:\n",
    "                self.fit = fitness\n",
    "                self.best_fit = self.fit\n",
    "                self.best_pos = self.pos\n",
    "\n",
    "    def set_vel(self, vel):\n",
    "        self.vel = vel\n",
    "\n",
    "    def get_pos(self):\n",
    "        return self.pos\n",
    "\n",
    "    def get_vel(self):\n",
    "        return self.vel\n",
    "\n",
    "    def get_best_pos(self):\n",
    "        return self.best_pos\n",
    "\n",
    "    def get_fit(self):\n",
    "        return self.fit\n",
    "\n",
    "def pso(dim, epochs):\n",
    "    swarm = initialize_swarm(SWARM_SIZE, dim, SEARCH_MIN, SEARCH_MAX)\n",
    "    for e in range(1, epochs+1):\n",
    "        move_particles(swarm)\n",
    "    best_fitness = get_swarm_best(swarm)[0]\n",
    "    print(f'Best minimum found was {best_fitness:.2f}.')\n",
    "\n",
    "def move_particles(swarm):\n",
    "    swarm_best = get_swarm_best(swarm)\n",
    "    for particle in swarm:\n",
    "        new_pos = [0 for _ in range(DIMENSIONS)]\n",
    "        new_vel = [0 for _ in range(DIMENSIONS)]\n",
    "        for d in range(DIMENSIONS):\n",
    "            R_1 = random.uniform(0.00, 1.00)\n",
    "            R_2 = random.uniform(0.00, 1.00)\n",
    "            weight = W * particle.get_vel()[d]\n",
    "            cognitive = C_1 * R_1\n",
    "            cognitive *= (particle.get_best_pos()[d] - particle.get_pos()[d])\n",
    "            social = C_2 * R_2\n",
    "            social *= (swarm_best[1][d] - particle.get_pos()[d])\n",
    "            new_vel[d] = weight + cognitive + social\n",
    "            new_pos[d] = particle.get_pos()[d] + new_vel[d]\n",
    "        particle.set_pos(new_pos)\n",
    "        particle.set_vel(new_vel)    \n",
    "\n",
    "def initialize_swarm(size, dim, min, max):\n",
    "    swarm = []\n",
    "    for _ in range(size):\n",
    "        position = [random.uniform(min, max) for _ in range(dim)]\n",
    "        velocity = [0 for _ in range(dim)]\n",
    "        particle = Particle(position, velocity)\n",
    "        swarm.append(particle)\n",
    "    return swarm\n",
    "\n",
    "def get_swarm_best(swarm):\n",
    "    best_fit = swarm[0].get_fit()\n",
    "    best_pos = swarm[0].get_pos()\n",
    "    for particle in swarm:\n",
    "        if particle.get_fit() < best_fit:\n",
    "            best_fit = particle.get_fit()\n",
    "            best_pos = particle.get_pos()\n",
    "    return best_fit, best_pos\n",
    "\n",
    "def schwefel(particle):\n",
    "    summ = 0\n",
    "    for d in particle:\n",
    "        summ += d * sin(sqrt(abs(d)))\n",
    "    return (len(particle) * 418.9829) - summ\n",
    "\n",
    "if __name__ == '__main__':\n",
    "    SEARCH_MIN = -500\n",
    "    SEARCH_MAX = 500\n",
    "    DIMENSIONS = 2\n",
    "    SWARM_SIZE = 200\n",
    "    EPOCHS = 100\n",
    "    W = 0.729844\n",
    "    C_1 = 1.496180\n",
    "    C_2 = 1.496180\n",
    "    pso(DIMENSIONS, EPOCHS)"
   ]
  },
  {
   "cell_type": "markdown",
   "metadata": {},
   "source": [
    "You may wish to catch for errors (as I have done none here), and perhaps accept some of the parameters as command line arguments. This code, as-is, should run in a terminal but allows for zero customization unless you change the code manually. Some parameters might include inertial weight and cognitive/social coefficients, swarm size, how many epochs, etc.\n",
    "\n",
    "You can save this code as `particle_algorithm.py` and execute it as one of the below:\n",
    "\n",
    "```\n",
    "$ python3 particle_algorithm.py\n",
    "$ ./particle_algorithm.py\n",
    "```\n",
    "\n",
    "You can also find the code in `./code`. For a C++ implementation I did for optimizing the Rastrigin function, you can see it <a href=\"https://github.com/stratzilla/pso-rastrigin\">here</a>.\n"
   ]
  }
 ],
 "metadata": {
  "kernelspec": {
   "display_name": "Python 3",
   "language": "python",
   "name": "python3"
  },
  "language_info": {
   "codemirror_mode": {
    "name": "ipython",
    "version": 3
   },
   "file_extension": ".py",
   "mimetype": "text/x-python",
   "name": "python",
   "nbconvert_exporter": "python",
   "pygments_lexer": "ipython3",
   "version": "3.6.9"
  }
 },
 "nbformat": 4,
 "nbformat_minor": 4
}
